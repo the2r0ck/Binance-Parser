{
 "cells": [
  {
   "cell_type": "code",
   "execution_count": 37,
   "metadata": {},
   "outputs": [],
   "source": [
    "import pandas as pd\n",
    "\n",
    "from backtesting import Backtest, Strategy\n",
    "from backtesting.lib import crossover\n",
    "\n",
    "from backtesting.test import GOOG"
   ]
  },
  {
   "cell_type": "code",
   "execution_count": 2,
   "metadata": {},
   "outputs": [
    {
     "data": {
      "text/html": [
       "<div>\n",
       "<style scoped>\n",
       "    .dataframe tbody tr th:only-of-type {\n",
       "        vertical-align: middle;\n",
       "    }\n",
       "\n",
       "    .dataframe tbody tr th {\n",
       "        vertical-align: top;\n",
       "    }\n",
       "\n",
       "    .dataframe thead th {\n",
       "        text-align: right;\n",
       "    }\n",
       "</style>\n",
       "<table border=\"1\" class=\"dataframe\">\n",
       "  <thead>\n",
       "    <tr style=\"text-align: right;\">\n",
       "      <th></th>\n",
       "      <th>Open</th>\n",
       "      <th>High</th>\n",
       "      <th>Low</th>\n",
       "      <th>Close</th>\n",
       "      <th>Volume</th>\n",
       "    </tr>\n",
       "    <tr>\n",
       "      <th>time_open</th>\n",
       "      <th></th>\n",
       "      <th></th>\n",
       "      <th></th>\n",
       "      <th></th>\n",
       "      <th></th>\n",
       "    </tr>\n",
       "  </thead>\n",
       "  <tbody>\n",
       "    <tr>\n",
       "      <th>2017-08-17 07:00:00</th>\n",
       "      <td>4261.48</td>\n",
       "      <td>4261.48</td>\n",
       "      <td>4261.48</td>\n",
       "      <td>4261.48</td>\n",
       "      <td>1.775183</td>\n",
       "    </tr>\n",
       "    <tr>\n",
       "      <th>2017-08-17 07:01:00</th>\n",
       "      <td>4261.48</td>\n",
       "      <td>4261.48</td>\n",
       "      <td>4261.48</td>\n",
       "      <td>4261.48</td>\n",
       "      <td>0.000000</td>\n",
       "    </tr>\n",
       "    <tr>\n",
       "      <th>2017-08-17 07:02:00</th>\n",
       "      <td>4280.56</td>\n",
       "      <td>4280.56</td>\n",
       "      <td>4280.56</td>\n",
       "      <td>4280.56</td>\n",
       "      <td>0.261074</td>\n",
       "    </tr>\n",
       "    <tr>\n",
       "      <th>2017-08-17 07:03:00</th>\n",
       "      <td>4261.48</td>\n",
       "      <td>4261.48</td>\n",
       "      <td>4261.48</td>\n",
       "      <td>4261.48</td>\n",
       "      <td>0.012008</td>\n",
       "    </tr>\n",
       "    <tr>\n",
       "      <th>2017-08-17 07:04:00</th>\n",
       "      <td>4261.48</td>\n",
       "      <td>4261.48</td>\n",
       "      <td>4261.48</td>\n",
       "      <td>4261.48</td>\n",
       "      <td>0.140796</td>\n",
       "    </tr>\n",
       "    <tr>\n",
       "      <th>...</th>\n",
       "      <td>...</td>\n",
       "      <td>...</td>\n",
       "      <td>...</td>\n",
       "      <td>...</td>\n",
       "      <td>...</td>\n",
       "    </tr>\n",
       "    <tr>\n",
       "      <th>2024-07-13 18:10:00</th>\n",
       "      <td>58767.16</td>\n",
       "      <td>58803.25</td>\n",
       "      <td>58764.00</td>\n",
       "      <td>58803.25</td>\n",
       "      <td>7.688330</td>\n",
       "    </tr>\n",
       "    <tr>\n",
       "      <th>2024-07-13 18:11:00</th>\n",
       "      <td>58803.25</td>\n",
       "      <td>58803.25</td>\n",
       "      <td>58786.05</td>\n",
       "      <td>58790.00</td>\n",
       "      <td>11.794740</td>\n",
       "    </tr>\n",
       "    <tr>\n",
       "      <th>2024-07-13 18:12:00</th>\n",
       "      <td>58789.99</td>\n",
       "      <td>58795.82</td>\n",
       "      <td>58781.14</td>\n",
       "      <td>58795.82</td>\n",
       "      <td>5.881740</td>\n",
       "    </tr>\n",
       "    <tr>\n",
       "      <th>2024-07-13 18:13:00</th>\n",
       "      <td>58795.82</td>\n",
       "      <td>58810.00</td>\n",
       "      <td>58791.40</td>\n",
       "      <td>58802.00</td>\n",
       "      <td>10.884170</td>\n",
       "    </tr>\n",
       "    <tr>\n",
       "      <th>2024-07-13 18:14:00</th>\n",
       "      <td>58802.00</td>\n",
       "      <td>58802.01</td>\n",
       "      <td>58802.00</td>\n",
       "      <td>58802.00</td>\n",
       "      <td>0.068970</td>\n",
       "    </tr>\n",
       "  </tbody>\n",
       "</table>\n",
       "<p>3623757 rows × 5 columns</p>\n",
       "</div>"
      ],
      "text/plain": [
       "                         Open      High       Low     Close     Volume\n",
       "time_open                                                             \n",
       "2017-08-17 07:00:00   4261.48   4261.48   4261.48   4261.48   1.775183\n",
       "2017-08-17 07:01:00   4261.48   4261.48   4261.48   4261.48   0.000000\n",
       "2017-08-17 07:02:00   4280.56   4280.56   4280.56   4280.56   0.261074\n",
       "2017-08-17 07:03:00   4261.48   4261.48   4261.48   4261.48   0.012008\n",
       "2017-08-17 07:04:00   4261.48   4261.48   4261.48   4261.48   0.140796\n",
       "...                       ...       ...       ...       ...        ...\n",
       "2024-07-13 18:10:00  58767.16  58803.25  58764.00  58803.25   7.688330\n",
       "2024-07-13 18:11:00  58803.25  58803.25  58786.05  58790.00  11.794740\n",
       "2024-07-13 18:12:00  58789.99  58795.82  58781.14  58795.82   5.881740\n",
       "2024-07-13 18:13:00  58795.82  58810.00  58791.40  58802.00  10.884170\n",
       "2024-07-13 18:14:00  58802.00  58802.01  58802.00  58802.00   0.068970\n",
       "\n",
       "[3623757 rows x 5 columns]"
      ]
     },
     "execution_count": 2,
     "metadata": {},
     "output_type": "execute_result"
    }
   ],
   "source": [
    "\n",
    "btc = pd.read_csv(\"../data/BTCUSDT.csv\")\n",
    "btc.drop_duplicates(inplace=True)\n",
    "btc[\"time_open\"] = pd.to_datetime(btc.time_open)\n",
    "btc.set_index(\"time_open\", inplace=True)\n",
    "btc = btc[::-1].copy()\n",
    "\n",
    "btc_bt = pd.DataFrame(index=btc.index.copy())\n",
    "btc_bt[\"Open\"] = btc.open\n",
    "btc_bt[\"High\"] = btc.high\n",
    "btc_bt[\"Low\"] = btc.low\n",
    "btc_bt[\"Close\"] = btc.close\n",
    "btc_bt[\"Volume\"] = btc.volume\n",
    "btc_bt"
   ]
  },
  {
   "cell_type": "code",
   "execution_count": 3,
   "metadata": {},
   "outputs": [],
   "source": [
    "class MyStrategy(Strategy):\n",
    "    def init(self):\n",
    "        self.sma8 = self.I(lambda series: pd.Series(series).rolling(8).mean(), self.data.Close)\n",
    "        self.sma16 = self.I(lambda series: pd.Series(series).rolling(16).mean(), self.data.Close)\n",
    "    \n",
    "    def next(self):\n",
    "        if crossover(self.sma8, self.sma16):\n",
    "            self.position.close()\n",
    "        elif crossover(self.sma16, self.sma8):\n",
    "            self.buy()"
   ]
  },
  {
   "cell_type": "code",
   "execution_count": 38,
   "metadata": {},
   "outputs": [
    {
     "data": {
      "text/plain": [
       "Start                     2004-08-19 00:00:00\n",
       "End                       2013-03-01 00:00:00\n",
       "Duration                   3116 days 00:00:00\n",
       "Exposure Time [%]                    42.73743\n",
       "Equity Final [$]                     926316.0\n",
       "Equity Peak [$]                    1505325.29\n",
       "Return [%]                            -7.3684\n",
       "Buy & Hold Return [%]              703.458242\n",
       "Return (Ann.) [%]                   -0.893934\n",
       "Volatility (Ann.) [%]               23.441388\n",
       "Sharpe Ratio                              0.0\n",
       "Sortino Ratio                             0.0\n",
       "Calmar Ratio                              0.0\n",
       "Max. Drawdown [%]                  -60.331757\n",
       "Avg. Drawdown [%]                  -12.488026\n",
       "Max. Drawdown Duration     1892 days 00:00:00\n",
       "Avg. Drawdown Duration      296 days 00:00:00\n",
       "# Trades                                   66\n",
       "Win Rate [%]                        56.060606\n",
       "Best Trade [%]                      15.236155\n",
       "Worst Trade [%]                    -23.114855\n",
       "Avg. Trade [%]                      -0.116232\n",
       "Max. Trade Duration          46 days 00:00:00\n",
       "Avg. Trade Duration          19 days 00:00:00\n",
       "Profit Factor                        1.062717\n",
       "Expectancy [%]                       0.174494\n",
       "SQN                                  -0.10851\n",
       "_strategy                          MyStrategy\n",
       "_equity_curve                            E...\n",
       "_trades                       Size  EntryB...\n",
       "dtype: object"
      ]
     },
     "execution_count": 38,
     "metadata": {},
     "output_type": "execute_result"
    }
   ],
   "source": [
    "bt = Backtest(GOOG, MyStrategy, cash=1_000_000)\n",
    "\n",
    "stats = bt.run()\n",
    "stats"
   ]
  },
  {
   "cell_type": "code",
   "execution_count": 39,
   "metadata": {},
   "outputs": [
    {
     "ename": "ValueError",
     "evalue": "failed to validate DatetimeTickFormatter(id='p1046', ...).days: expected a value of type str, got ['%d %b', '%a %d'] of type list",
     "output_type": "error",
     "traceback": [
      "\u001b[0;31m---------------------------------------------------------------------------\u001b[0m",
      "\u001b[0;31mValueError\u001b[0m                                Traceback (most recent call last)",
      "Cell \u001b[0;32mIn[39], line 1\u001b[0m\n\u001b[0;32m----> 1\u001b[0m \u001b[43mbt\u001b[49m\u001b[38;5;241;43m.\u001b[39;49m\u001b[43mplot\u001b[49m\u001b[43m(\u001b[49m\u001b[43m)\u001b[49m\n",
      "File \u001b[0;32m~/Documents/Portfolio/Algotrading/binance_api_parsing/venv/lib/python3.12/site-packages/backtesting/backtesting.py:1592\u001b[0m, in \u001b[0;36mBacktest.plot\u001b[0;34m(self, results, filename, plot_width, plot_equity, plot_return, plot_pl, plot_volume, plot_drawdown, smooth_equity, relative_equity, superimpose, resample, reverse_indicators, show_legend, open_browser)\u001b[0m\n\u001b[1;32m   1589\u001b[0m         \u001b[38;5;28;01mraise\u001b[39;00m \u001b[38;5;167;01mRuntimeError\u001b[39;00m(\u001b[38;5;124m'\u001b[39m\u001b[38;5;124mFirst issue `backtest.run()` to obtain results.\u001b[39m\u001b[38;5;124m'\u001b[39m)\n\u001b[1;32m   1590\u001b[0m     results \u001b[38;5;241m=\u001b[39m \u001b[38;5;28mself\u001b[39m\u001b[38;5;241m.\u001b[39m_results\n\u001b[0;32m-> 1592\u001b[0m \u001b[38;5;28;01mreturn\u001b[39;00m \u001b[43mplot\u001b[49m\u001b[43m(\u001b[49m\n\u001b[1;32m   1593\u001b[0m \u001b[43m    \u001b[49m\u001b[43mresults\u001b[49m\u001b[38;5;241;43m=\u001b[39;49m\u001b[43mresults\u001b[49m\u001b[43m,\u001b[49m\n\u001b[1;32m   1594\u001b[0m \u001b[43m    \u001b[49m\u001b[43mdf\u001b[49m\u001b[38;5;241;43m=\u001b[39;49m\u001b[38;5;28;43mself\u001b[39;49m\u001b[38;5;241;43m.\u001b[39;49m\u001b[43m_data\u001b[49m\u001b[43m,\u001b[49m\n\u001b[1;32m   1595\u001b[0m \u001b[43m    \u001b[49m\u001b[43mindicators\u001b[49m\u001b[38;5;241;43m=\u001b[39;49m\u001b[43mresults\u001b[49m\u001b[38;5;241;43m.\u001b[39;49m\u001b[43m_strategy\u001b[49m\u001b[38;5;241;43m.\u001b[39;49m\u001b[43m_indicators\u001b[49m\u001b[43m,\u001b[49m\n\u001b[1;32m   1596\u001b[0m \u001b[43m    \u001b[49m\u001b[43mfilename\u001b[49m\u001b[38;5;241;43m=\u001b[39;49m\u001b[43mfilename\u001b[49m\u001b[43m,\u001b[49m\n\u001b[1;32m   1597\u001b[0m \u001b[43m    \u001b[49m\u001b[43mplot_width\u001b[49m\u001b[38;5;241;43m=\u001b[39;49m\u001b[43mplot_width\u001b[49m\u001b[43m,\u001b[49m\n\u001b[1;32m   1598\u001b[0m \u001b[43m    \u001b[49m\u001b[43mplot_equity\u001b[49m\u001b[38;5;241;43m=\u001b[39;49m\u001b[43mplot_equity\u001b[49m\u001b[43m,\u001b[49m\n\u001b[1;32m   1599\u001b[0m \u001b[43m    \u001b[49m\u001b[43mplot_return\u001b[49m\u001b[38;5;241;43m=\u001b[39;49m\u001b[43mplot_return\u001b[49m\u001b[43m,\u001b[49m\n\u001b[1;32m   1600\u001b[0m \u001b[43m    \u001b[49m\u001b[43mplot_pl\u001b[49m\u001b[38;5;241;43m=\u001b[39;49m\u001b[43mplot_pl\u001b[49m\u001b[43m,\u001b[49m\n\u001b[1;32m   1601\u001b[0m \u001b[43m    \u001b[49m\u001b[43mplot_volume\u001b[49m\u001b[38;5;241;43m=\u001b[39;49m\u001b[43mplot_volume\u001b[49m\u001b[43m,\u001b[49m\n\u001b[1;32m   1602\u001b[0m \u001b[43m    \u001b[49m\u001b[43mplot_drawdown\u001b[49m\u001b[38;5;241;43m=\u001b[39;49m\u001b[43mplot_drawdown\u001b[49m\u001b[43m,\u001b[49m\n\u001b[1;32m   1603\u001b[0m \u001b[43m    \u001b[49m\u001b[43msmooth_equity\u001b[49m\u001b[38;5;241;43m=\u001b[39;49m\u001b[43msmooth_equity\u001b[49m\u001b[43m,\u001b[49m\n\u001b[1;32m   1604\u001b[0m \u001b[43m    \u001b[49m\u001b[43mrelative_equity\u001b[49m\u001b[38;5;241;43m=\u001b[39;49m\u001b[43mrelative_equity\u001b[49m\u001b[43m,\u001b[49m\n\u001b[1;32m   1605\u001b[0m \u001b[43m    \u001b[49m\u001b[43msuperimpose\u001b[49m\u001b[38;5;241;43m=\u001b[39;49m\u001b[43msuperimpose\u001b[49m\u001b[43m,\u001b[49m\n\u001b[1;32m   1606\u001b[0m \u001b[43m    \u001b[49m\u001b[43mresample\u001b[49m\u001b[38;5;241;43m=\u001b[39;49m\u001b[43mresample\u001b[49m\u001b[43m,\u001b[49m\n\u001b[1;32m   1607\u001b[0m \u001b[43m    \u001b[49m\u001b[43mreverse_indicators\u001b[49m\u001b[38;5;241;43m=\u001b[39;49m\u001b[43mreverse_indicators\u001b[49m\u001b[43m,\u001b[49m\n\u001b[1;32m   1608\u001b[0m \u001b[43m    \u001b[49m\u001b[43mshow_legend\u001b[49m\u001b[38;5;241;43m=\u001b[39;49m\u001b[43mshow_legend\u001b[49m\u001b[43m,\u001b[49m\n\u001b[1;32m   1609\u001b[0m \u001b[43m    \u001b[49m\u001b[43mopen_browser\u001b[49m\u001b[38;5;241;43m=\u001b[39;49m\u001b[43mopen_browser\u001b[49m\u001b[43m)\u001b[49m\n",
      "File \u001b[0;32m~/Documents/Portfolio/Algotrading/binance_api_parsing/venv/lib/python3.12/site-packages/backtesting/_plotting.py:250\u001b[0m, in \u001b[0;36mplot\u001b[0;34m(results, df, indicators, filename, plot_width, plot_equity, plot_return, plot_pl, plot_volume, plot_drawdown, smooth_equity, relative_equity, superimpose, resample, reverse_indicators, show_legend, open_browser)\u001b[0m\n\u001b[1;32m    245\u001b[0m     trades_cmap \u001b[38;5;241m=\u001b[39m factor_cmap(\u001b[38;5;124m'\u001b[39m\u001b[38;5;124mreturns_positive\u001b[39m\u001b[38;5;124m'\u001b[39m, colors_darker, [\u001b[38;5;124m'\u001b[39m\u001b[38;5;124m0\u001b[39m\u001b[38;5;124m'\u001b[39m, \u001b[38;5;124m'\u001b[39m\u001b[38;5;124m1\u001b[39m\u001b[38;5;124m'\u001b[39m])\n\u001b[1;32m    247\u001b[0m     \u001b[38;5;28;01mif\u001b[39;00m is_datetime_index:\n\u001b[1;32m    248\u001b[0m         fig_ohlc\u001b[38;5;241m.\u001b[39mxaxis\u001b[38;5;241m.\u001b[39mformatter \u001b[38;5;241m=\u001b[39m CustomJSTickFormatter(\n\u001b[1;32m    249\u001b[0m             args\u001b[38;5;241m=\u001b[39m\u001b[38;5;28mdict\u001b[39m(axis\u001b[38;5;241m=\u001b[39mfig_ohlc\u001b[38;5;241m.\u001b[39mxaxis[\u001b[38;5;241m0\u001b[39m],\n\u001b[0;32m--> 250\u001b[0m                       formatter\u001b[38;5;241m=\u001b[39m\u001b[43mDatetimeTickFormatter\u001b[49m\u001b[43m(\u001b[49m\u001b[43mdays\u001b[49m\u001b[38;5;241;43m=\u001b[39;49m\u001b[43m[\u001b[49m\u001b[38;5;124;43m'\u001b[39;49m\u001b[38;5;132;43;01m%d\u001b[39;49;00m\u001b[38;5;124;43m \u001b[39;49m\u001b[38;5;124;43m%\u001b[39;49m\u001b[38;5;124;43mb\u001b[39;49m\u001b[38;5;124;43m'\u001b[39;49m\u001b[43m,\u001b[49m\u001b[43m \u001b[49m\u001b[38;5;124;43m'\u001b[39;49m\u001b[38;5;132;43;01m%a\u001b[39;49;00m\u001b[38;5;124;43m \u001b[39;49m\u001b[38;5;132;43;01m%d\u001b[39;49;00m\u001b[38;5;124;43m'\u001b[39;49m\u001b[43m]\u001b[49m\u001b[43m,\u001b[49m\n\u001b[1;32m    251\u001b[0m \u001b[43m                                                      \u001b[49m\u001b[43mmonths\u001b[49m\u001b[38;5;241;43m=\u001b[39;49m\u001b[43m[\u001b[49m\u001b[38;5;124;43m'\u001b[39;49m\u001b[38;5;124;43m%\u001b[39;49m\u001b[38;5;124;43mm/\u001b[39;49m\u001b[38;5;124;43m%\u001b[39;49m\u001b[38;5;124;43mY\u001b[39;49m\u001b[38;5;124;43m'\u001b[39;49m\u001b[43m,\u001b[49m\u001b[43m \u001b[49m\u001b[38;5;124;43m\"\u001b[39;49m\u001b[38;5;124;43m%\u001b[39;49m\u001b[38;5;124;43mb\u001b[39;49m\u001b[38;5;124;43m'\u001b[39;49m\u001b[38;5;124;43m%\u001b[39;49m\u001b[38;5;124;43my\u001b[39;49m\u001b[38;5;124;43m\"\u001b[39;49m\u001b[43m]\u001b[49m\u001b[43m)\u001b[49m,\n\u001b[1;32m    252\u001b[0m                       source\u001b[38;5;241m=\u001b[39msource),\n\u001b[1;32m    253\u001b[0m             code\u001b[38;5;241m=\u001b[39m\u001b[38;5;124m'''\u001b[39m\n\u001b[1;32m    254\u001b[0m \u001b[38;5;124mthis.labels = this.labels || formatter.doFormat(ticks\u001b[39m\n\u001b[1;32m    255\u001b[0m \u001b[38;5;124m                                                .map(i => source.data.datetime[i])\u001b[39m\n\u001b[1;32m    256\u001b[0m \u001b[38;5;124m                                                .filter(t => t !== undefined));\u001b[39m\n\u001b[1;32m    257\u001b[0m \u001b[38;5;124mreturn this.labels[index] || \u001b[39m\u001b[38;5;124m\"\u001b[39m\u001b[38;5;124m\"\u001b[39m\u001b[38;5;124m;\u001b[39m\n\u001b[1;32m    258\u001b[0m \u001b[38;5;124m        \u001b[39m\u001b[38;5;124m'''\u001b[39m)\n\u001b[1;32m    260\u001b[0m     NBSP \u001b[38;5;241m=\u001b[39m \u001b[38;5;124m'\u001b[39m\u001b[38;5;130;01m\\N{NBSP}\u001b[39;00m\u001b[38;5;124m'\u001b[39m \u001b[38;5;241m*\u001b[39m \u001b[38;5;241m4\u001b[39m\n\u001b[1;32m    261\u001b[0m     ohlc_extreme_values \u001b[38;5;241m=\u001b[39m df[[\u001b[38;5;124m'\u001b[39m\u001b[38;5;124mHigh\u001b[39m\u001b[38;5;124m'\u001b[39m, \u001b[38;5;124m'\u001b[39m\u001b[38;5;124mLow\u001b[39m\u001b[38;5;124m'\u001b[39m]]\u001b[38;5;241m.\u001b[39mcopy(deep\u001b[38;5;241m=\u001b[39m\u001b[38;5;28;01mFalse\u001b[39;00m)\n",
      "File \u001b[0;32m~/Documents/Portfolio/Algotrading/binance_api_parsing/venv/lib/python3.12/site-packages/bokeh/models/formatters.py:593\u001b[0m, in \u001b[0;36mDatetimeTickFormatter.__init__\u001b[0;34m(self, *args, **kwargs)\u001b[0m\n\u001b[1;32m    592\u001b[0m \u001b[38;5;28;01mdef\u001b[39;00m \u001b[38;5;21m__init__\u001b[39m(\u001b[38;5;28mself\u001b[39m, \u001b[38;5;241m*\u001b[39margs, \u001b[38;5;241m*\u001b[39m\u001b[38;5;241m*\u001b[39mkwargs) \u001b[38;5;241m-\u001b[39m\u001b[38;5;241m>\u001b[39m \u001b[38;5;28;01mNone\u001b[39;00m:\n\u001b[0;32m--> 593\u001b[0m     \u001b[38;5;28;43msuper\u001b[39;49m\u001b[43m(\u001b[49m\u001b[43m)\u001b[49m\u001b[38;5;241;43m.\u001b[39;49m\u001b[38;5;21;43m__init__\u001b[39;49m\u001b[43m(\u001b[49m\u001b[38;5;241;43m*\u001b[39;49m\u001b[43margs\u001b[49m\u001b[43m,\u001b[49m\u001b[43m \u001b[49m\u001b[38;5;241;43m*\u001b[39;49m\u001b[38;5;241;43m*\u001b[39;49m\u001b[43mkwargs\u001b[49m\u001b[43m)\u001b[49m\n",
      "File \u001b[0;32m~/Documents/Portfolio/Algotrading/binance_api_parsing/venv/lib/python3.12/site-packages/bokeh/models/formatters.py:93\u001b[0m, in \u001b[0;36mTickFormatter.__init__\u001b[0;34m(self, *args, **kwargs)\u001b[0m\n\u001b[1;32m     92\u001b[0m \u001b[38;5;28;01mdef\u001b[39;00m \u001b[38;5;21m__init__\u001b[39m(\u001b[38;5;28mself\u001b[39m, \u001b[38;5;241m*\u001b[39margs, \u001b[38;5;241m*\u001b[39m\u001b[38;5;241m*\u001b[39mkwargs) \u001b[38;5;241m-\u001b[39m\u001b[38;5;241m>\u001b[39m \u001b[38;5;28;01mNone\u001b[39;00m:\n\u001b[0;32m---> 93\u001b[0m     \u001b[38;5;28;43msuper\u001b[39;49m\u001b[43m(\u001b[49m\u001b[43m)\u001b[49m\u001b[38;5;241;43m.\u001b[39;49m\u001b[38;5;21;43m__init__\u001b[39;49m\u001b[43m(\u001b[49m\u001b[38;5;241;43m*\u001b[39;49m\u001b[43margs\u001b[49m\u001b[43m,\u001b[49m\u001b[43m \u001b[49m\u001b[38;5;241;43m*\u001b[39;49m\u001b[38;5;241;43m*\u001b[39;49m\u001b[43mkwargs\u001b[49m\u001b[43m)\u001b[49m\n",
      "File \u001b[0;32m~/Documents/Portfolio/Algotrading/binance_api_parsing/venv/lib/python3.12/site-packages/bokeh/model/model.py:119\u001b[0m, in \u001b[0;36mModel.__init__\u001b[0;34m(self, *args, **kwargs)\u001b[0m\n\u001b[1;32m    116\u001b[0m \u001b[38;5;28;01mif\u001b[39;00m \u001b[38;5;124m\"\u001b[39m\u001b[38;5;124mid\u001b[39m\u001b[38;5;124m\"\u001b[39m \u001b[38;5;129;01min\u001b[39;00m kwargs:\n\u001b[1;32m    117\u001b[0m     \u001b[38;5;28;01mraise\u001b[39;00m \u001b[38;5;167;01mValueError\u001b[39;00m(\u001b[38;5;124m\"\u001b[39m\u001b[38;5;124minitializing \u001b[39m\u001b[38;5;124m'\u001b[39m\u001b[38;5;124mid\u001b[39m\u001b[38;5;124m'\u001b[39m\u001b[38;5;124m is not allowed\u001b[39m\u001b[38;5;124m\"\u001b[39m)\n\u001b[0;32m--> 119\u001b[0m \u001b[38;5;28;43msuper\u001b[39;49m\u001b[43m(\u001b[49m\u001b[43m)\u001b[49m\u001b[38;5;241;43m.\u001b[39;49m\u001b[38;5;21;43m__init__\u001b[39;49m\u001b[43m(\u001b[49m\u001b[38;5;241;43m*\u001b[39;49m\u001b[38;5;241;43m*\u001b[39;49m\u001b[43mkwargs\u001b[49m\u001b[43m)\u001b[49m\n\u001b[1;32m    120\u001b[0m default_theme\u001b[38;5;241m.\u001b[39mapply_to_model(\u001b[38;5;28mself\u001b[39m)\n",
      "File \u001b[0;32m~/Documents/Portfolio/Algotrading/binance_api_parsing/venv/lib/python3.12/site-packages/bokeh/core/has_props.py:304\u001b[0m, in \u001b[0;36mHasProps.__init__\u001b[0;34m(self, **properties)\u001b[0m\n\u001b[1;32m    302\u001b[0m     \u001b[38;5;28;01mif\u001b[39;00m value \u001b[38;5;129;01mis\u001b[39;00m Undefined \u001b[38;5;129;01mor\u001b[39;00m value \u001b[38;5;129;01mis\u001b[39;00m Intrinsic:\n\u001b[1;32m    303\u001b[0m         \u001b[38;5;28;01mcontinue\u001b[39;00m\n\u001b[0;32m--> 304\u001b[0m     \u001b[38;5;28;43msetattr\u001b[39;49m\u001b[43m(\u001b[49m\u001b[38;5;28;43mself\u001b[39;49m\u001b[43m,\u001b[49m\u001b[43m \u001b[49m\u001b[43mname\u001b[49m\u001b[43m,\u001b[49m\u001b[43m \u001b[49m\u001b[43mvalue\u001b[49m\u001b[43m)\u001b[49m\n\u001b[1;32m    306\u001b[0m initialized \u001b[38;5;241m=\u001b[39m \u001b[38;5;28mset\u001b[39m(properties\u001b[38;5;241m.\u001b[39mkeys())\n\u001b[1;32m    307\u001b[0m \u001b[38;5;28;01mfor\u001b[39;00m name \u001b[38;5;129;01min\u001b[39;00m \u001b[38;5;28mself\u001b[39m\u001b[38;5;241m.\u001b[39mproperties(_with_props\u001b[38;5;241m=\u001b[39m\u001b[38;5;28;01mTrue\u001b[39;00m): \u001b[38;5;66;03m# avoid set[] for deterministic behavior\u001b[39;00m\n",
      "File \u001b[0;32m~/Documents/Portfolio/Algotrading/binance_api_parsing/venv/lib/python3.12/site-packages/bokeh/core/has_props.py:336\u001b[0m, in \u001b[0;36mHasProps.__setattr__\u001b[0;34m(self, name, value)\u001b[0m\n\u001b[1;32m    334\u001b[0m properties \u001b[38;5;241m=\u001b[39m \u001b[38;5;28mself\u001b[39m\u001b[38;5;241m.\u001b[39mproperties(_with_props\u001b[38;5;241m=\u001b[39m\u001b[38;5;28;01mTrue\u001b[39;00m)\n\u001b[1;32m    335\u001b[0m \u001b[38;5;28;01mif\u001b[39;00m name \u001b[38;5;129;01min\u001b[39;00m properties:\n\u001b[0;32m--> 336\u001b[0m     \u001b[38;5;28;01mreturn\u001b[39;00m \u001b[38;5;28;43msuper\u001b[39;49m\u001b[43m(\u001b[49m\u001b[43m)\u001b[49m\u001b[38;5;241;43m.\u001b[39;49m\u001b[38;5;21;43m__setattr__\u001b[39;49m\u001b[43m(\u001b[49m\u001b[43mname\u001b[49m\u001b[43m,\u001b[49m\u001b[43m \u001b[49m\u001b[43mvalue\u001b[49m\u001b[43m)\u001b[49m\n\u001b[1;32m    338\u001b[0m descriptor \u001b[38;5;241m=\u001b[39m \u001b[38;5;28mgetattr\u001b[39m(\u001b[38;5;28mself\u001b[39m\u001b[38;5;241m.\u001b[39m\u001b[38;5;18m__class__\u001b[39m, name, \u001b[38;5;28;01mNone\u001b[39;00m)\n\u001b[1;32m    339\u001b[0m \u001b[38;5;28;01mif\u001b[39;00m \u001b[38;5;28misinstance\u001b[39m(descriptor, \u001b[38;5;28mproperty\u001b[39m): \u001b[38;5;66;03m# Python property\u001b[39;00m\n",
      "File \u001b[0;32m~/Documents/Portfolio/Algotrading/binance_api_parsing/venv/lib/python3.12/site-packages/bokeh/core/property/descriptors.py:330\u001b[0m, in \u001b[0;36mPropertyDescriptor.__set__\u001b[0;34m(self, obj, value, setter)\u001b[0m\n\u001b[1;32m    327\u001b[0m     class_name \u001b[38;5;241m=\u001b[39m obj\u001b[38;5;241m.\u001b[39m\u001b[38;5;18m__class__\u001b[39m\u001b[38;5;241m.\u001b[39m\u001b[38;5;18m__name__\u001b[39m\n\u001b[1;32m    328\u001b[0m     \u001b[38;5;28;01mraise\u001b[39;00m \u001b[38;5;167;01mRuntimeError\u001b[39;00m(\u001b[38;5;124mf\u001b[39m\u001b[38;5;124m\"\u001b[39m\u001b[38;5;132;01m{\u001b[39;00mclass_name\u001b[38;5;132;01m}\u001b[39;00m\u001b[38;5;124m.\u001b[39m\u001b[38;5;132;01m{\u001b[39;00m\u001b[38;5;28mself\u001b[39m\u001b[38;5;241m.\u001b[39mname\u001b[38;5;132;01m}\u001b[39;00m\u001b[38;5;124m is a readonly property\u001b[39m\u001b[38;5;124m\"\u001b[39m)\n\u001b[0;32m--> 330\u001b[0m value \u001b[38;5;241m=\u001b[39m \u001b[38;5;28;43mself\u001b[39;49m\u001b[38;5;241;43m.\u001b[39;49m\u001b[43mproperty\u001b[49m\u001b[38;5;241;43m.\u001b[39;49m\u001b[43mprepare_value\u001b[49m\u001b[43m(\u001b[49m\u001b[43mobj\u001b[49m\u001b[43m,\u001b[49m\u001b[43m \u001b[49m\u001b[38;5;28;43mself\u001b[39;49m\u001b[38;5;241;43m.\u001b[39;49m\u001b[43mname\u001b[49m\u001b[43m,\u001b[49m\u001b[43m \u001b[49m\u001b[43mvalue\u001b[49m\u001b[43m)\u001b[49m\n\u001b[1;32m    331\u001b[0m old \u001b[38;5;241m=\u001b[39m \u001b[38;5;28mself\u001b[39m\u001b[38;5;241m.\u001b[39m_get(obj)\n\u001b[1;32m    332\u001b[0m \u001b[38;5;28mself\u001b[39m\u001b[38;5;241m.\u001b[39m_set(obj, old, value, setter\u001b[38;5;241m=\u001b[39msetter)\n",
      "File \u001b[0;32m~/Documents/Portfolio/Algotrading/binance_api_parsing/venv/lib/python3.12/site-packages/bokeh/core/property/bases.py:363\u001b[0m, in \u001b[0;36mProperty.prepare_value\u001b[0;34m(self, owner, name, value, hint)\u001b[0m\n\u001b[1;32m    361\u001b[0m \u001b[38;5;28;01melse\u001b[39;00m:\n\u001b[1;32m    362\u001b[0m     obj_repr \u001b[38;5;241m=\u001b[39m owner \u001b[38;5;28;01mif\u001b[39;00m \u001b[38;5;28misinstance\u001b[39m(owner, HasProps) \u001b[38;5;28;01melse\u001b[39;00m owner\u001b[38;5;241m.\u001b[39m\u001b[38;5;18m__name__\u001b[39m\n\u001b[0;32m--> 363\u001b[0m     \u001b[38;5;28;01mraise\u001b[39;00m \u001b[38;5;167;01mValueError\u001b[39;00m(\u001b[38;5;124mf\u001b[39m\u001b[38;5;124m\"\u001b[39m\u001b[38;5;124mfailed to validate \u001b[39m\u001b[38;5;132;01m{\u001b[39;00mobj_repr\u001b[38;5;132;01m}\u001b[39;00m\u001b[38;5;124m.\u001b[39m\u001b[38;5;132;01m{\u001b[39;00mname\u001b[38;5;132;01m}\u001b[39;00m\u001b[38;5;124m: \u001b[39m\u001b[38;5;132;01m{\u001b[39;00merror\u001b[38;5;132;01m}\u001b[39;00m\u001b[38;5;124m\"\u001b[39m)\n\u001b[1;32m    365\u001b[0m \u001b[38;5;28;01mif\u001b[39;00m \u001b[38;5;28misinstance\u001b[39m(owner, HasProps):\n\u001b[1;32m    366\u001b[0m     obj \u001b[38;5;241m=\u001b[39m owner\n",
      "\u001b[0;31mValueError\u001b[0m: failed to validate DatetimeTickFormatter(id='p1046', ...).days: expected a value of type str, got ['%d %b', '%a %d'] of type list"
     ]
    }
   ],
   "source": [
    "bt.plot()"
   ]
  },
  {
   "cell_type": "code",
   "execution_count": 12,
   "metadata": {},
   "outputs": [],
   "source": [
    "btc_bt.sort_index(inplace=True)"
   ]
  },
  {
   "cell_type": "code",
   "execution_count": 32,
   "metadata": {},
   "outputs": [
    {
     "name": "stderr",
     "output_type": "stream",
     "text": [
      "/var/folders/z1/0tkms1m53hb8x5dkfgl_g8800000gn/T/ipykernel_40546/814063501.py:1: FutureWarning: 'T' is deprecated and will be removed in a future version, please use 'min' instead.\n",
      "  all_timestamps = pd.date_range(start=btc_bt.index.min(), end=btc_bt.index.max(), freq='T')\n"
     ]
    },
    {
     "data": {
      "text/plain": [
       "DatetimeIndex(['2017-08-17 07:05:00', '2017-08-17 07:06:00',\n",
       "               '2017-08-17 07:07:00', '2017-08-17 07:08:00',\n",
       "               '2017-08-17 07:09:00', '2017-08-17 07:10:00',\n",
       "               '2017-08-17 07:11:00', '2017-08-17 07:12:00',\n",
       "               '2017-08-17 07:13:00', '2017-08-17 07:14:00',\n",
       "               ...\n",
       "               '2024-03-31 03:50:00', '2024-03-31 03:51:00',\n",
       "               '2024-03-31 03:52:00', '2024-03-31 03:53:00',\n",
       "               '2024-03-31 03:54:00', '2024-03-31 03:55:00',\n",
       "               '2024-03-31 03:56:00', '2024-03-31 03:57:00',\n",
       "               '2024-03-31 03:58:00', '2024-03-31 03:59:00'],\n",
       "              dtype='datetime64[ns]', length=24691, freq=None)"
      ]
     },
     "execution_count": 32,
     "metadata": {},
     "output_type": "execute_result"
    }
   ],
   "source": [
    "all_timestamps = pd.date_range(start=btc_bt.index.min(), end=btc_bt.index.max(), freq='T')\n",
    "missing_timestamps = all_timestamps.difference(btc_bt.index)\n",
    "missing_timestamps"
   ]
  },
  {
   "cell_type": "code",
   "execution_count": 14,
   "metadata": {},
   "outputs": [
    {
     "data": {
      "text/plain": [
       "24691"
      ]
     },
     "execution_count": 14,
     "metadata": {},
     "output_type": "execute_result"
    }
   ],
   "source": [
    "len(missing_timestamps)"
   ]
  },
  {
   "cell_type": "code",
   "execution_count": 28,
   "metadata": {},
   "outputs": [
    {
     "name": "stderr",
     "output_type": "stream",
     "text": [
      "/var/folders/z1/0tkms1m53hb8x5dkfgl_g8800000gn/T/ipykernel_40546/1921863723.py:1: FutureWarning: 'T' is deprecated and will be removed in a future version, please use 'min' instead.\n",
      "  btc_bt_resambled = btc_bt.resample('T').asfreq()\n"
     ]
    }
   ],
   "source": [
    "btc_bt_resambled = btc_bt.resample('min').asfreq()\n",
    "btc_bt_resambled.ffill(inplace=True)"
   ]
  },
  {
   "cell_type": "code",
   "execution_count": 33,
   "metadata": {},
   "outputs": [
    {
     "data": {
      "text/plain": [
       "DatetimeIndex([], dtype='datetime64[ns]', name='time_open', freq='min')"
      ]
     },
     "execution_count": 33,
     "metadata": {},
     "output_type": "execute_result"
    }
   ],
   "source": [
    "btc_bt.index[btc_bt.index.duplicated()]"
   ]
  },
  {
   "cell_type": "code",
   "execution_count": 25,
   "metadata": {},
   "outputs": [],
   "source": [
    "btc_bt = btc_bt.groupby(btc_bt.index).mean()"
   ]
  },
  {
   "cell_type": "code",
   "execution_count": 27,
   "metadata": {},
   "outputs": [
    {
     "data": {
      "text/html": [
       "<div>\n",
       "<style scoped>\n",
       "    .dataframe tbody tr th:only-of-type {\n",
       "        vertical-align: middle;\n",
       "    }\n",
       "\n",
       "    .dataframe tbody tr th {\n",
       "        vertical-align: top;\n",
       "    }\n",
       "\n",
       "    .dataframe thead th {\n",
       "        text-align: right;\n",
       "    }\n",
       "</style>\n",
       "<table border=\"1\" class=\"dataframe\">\n",
       "  <thead>\n",
       "    <tr style=\"text-align: right;\">\n",
       "      <th></th>\n",
       "      <th>Open</th>\n",
       "      <th>High</th>\n",
       "      <th>Low</th>\n",
       "      <th>Close</th>\n",
       "      <th>Volume</th>\n",
       "    </tr>\n",
       "    <tr>\n",
       "      <th>time_open</th>\n",
       "      <th></th>\n",
       "      <th></th>\n",
       "      <th></th>\n",
       "      <th></th>\n",
       "      <th></th>\n",
       "    </tr>\n",
       "  </thead>\n",
       "  <tbody>\n",
       "    <tr>\n",
       "      <th>2017-08-17 07:00:00</th>\n",
       "      <td>4261.48</td>\n",
       "      <td>4261.48</td>\n",
       "      <td>4261.48</td>\n",
       "      <td>4261.48</td>\n",
       "      <td>1.775183</td>\n",
       "    </tr>\n",
       "    <tr>\n",
       "      <th>2017-08-17 07:01:00</th>\n",
       "      <td>4261.48</td>\n",
       "      <td>4261.48</td>\n",
       "      <td>4261.48</td>\n",
       "      <td>4261.48</td>\n",
       "      <td>0.000000</td>\n",
       "    </tr>\n",
       "    <tr>\n",
       "      <th>2017-08-17 07:02:00</th>\n",
       "      <td>4280.56</td>\n",
       "      <td>4280.56</td>\n",
       "      <td>4280.56</td>\n",
       "      <td>4280.56</td>\n",
       "      <td>0.261074</td>\n",
       "    </tr>\n",
       "    <tr>\n",
       "      <th>2017-08-17 07:03:00</th>\n",
       "      <td>4261.48</td>\n",
       "      <td>4261.48</td>\n",
       "      <td>4261.48</td>\n",
       "      <td>4261.48</td>\n",
       "      <td>0.012008</td>\n",
       "    </tr>\n",
       "    <tr>\n",
       "      <th>2017-08-17 07:04:00</th>\n",
       "      <td>4261.48</td>\n",
       "      <td>4261.48</td>\n",
       "      <td>4261.48</td>\n",
       "      <td>4261.48</td>\n",
       "      <td>0.140796</td>\n",
       "    </tr>\n",
       "    <tr>\n",
       "      <th>...</th>\n",
       "      <td>...</td>\n",
       "      <td>...</td>\n",
       "      <td>...</td>\n",
       "      <td>...</td>\n",
       "      <td>...</td>\n",
       "    </tr>\n",
       "    <tr>\n",
       "      <th>2024-07-13 18:10:00</th>\n",
       "      <td>58767.16</td>\n",
       "      <td>58803.25</td>\n",
       "      <td>58764.00</td>\n",
       "      <td>58803.25</td>\n",
       "      <td>7.688330</td>\n",
       "    </tr>\n",
       "    <tr>\n",
       "      <th>2024-07-13 18:11:00</th>\n",
       "      <td>58803.25</td>\n",
       "      <td>58803.25</td>\n",
       "      <td>58786.05</td>\n",
       "      <td>58790.00</td>\n",
       "      <td>11.794740</td>\n",
       "    </tr>\n",
       "    <tr>\n",
       "      <th>2024-07-13 18:12:00</th>\n",
       "      <td>58789.99</td>\n",
       "      <td>58795.82</td>\n",
       "      <td>58781.14</td>\n",
       "      <td>58795.82</td>\n",
       "      <td>5.881740</td>\n",
       "    </tr>\n",
       "    <tr>\n",
       "      <th>2024-07-13 18:13:00</th>\n",
       "      <td>58795.82</td>\n",
       "      <td>58810.00</td>\n",
       "      <td>58791.40</td>\n",
       "      <td>58802.00</td>\n",
       "      <td>10.884170</td>\n",
       "    </tr>\n",
       "    <tr>\n",
       "      <th>2024-07-13 18:14:00</th>\n",
       "      <td>58802.00</td>\n",
       "      <td>58802.01</td>\n",
       "      <td>58802.00</td>\n",
       "      <td>58802.00</td>\n",
       "      <td>0.068970</td>\n",
       "    </tr>\n",
       "  </tbody>\n",
       "</table>\n",
       "<p>3607664 rows × 5 columns</p>\n",
       "</div>"
      ],
      "text/plain": [
       "                         Open      High       Low     Close     Volume\n",
       "time_open                                                             \n",
       "2017-08-17 07:00:00   4261.48   4261.48   4261.48   4261.48   1.775183\n",
       "2017-08-17 07:01:00   4261.48   4261.48   4261.48   4261.48   0.000000\n",
       "2017-08-17 07:02:00   4280.56   4280.56   4280.56   4280.56   0.261074\n",
       "2017-08-17 07:03:00   4261.48   4261.48   4261.48   4261.48   0.012008\n",
       "2017-08-17 07:04:00   4261.48   4261.48   4261.48   4261.48   0.140796\n",
       "...                       ...       ...       ...       ...        ...\n",
       "2024-07-13 18:10:00  58767.16  58803.25  58764.00  58803.25   7.688330\n",
       "2024-07-13 18:11:00  58803.25  58803.25  58786.05  58790.00  11.794740\n",
       "2024-07-13 18:12:00  58789.99  58795.82  58781.14  58795.82   5.881740\n",
       "2024-07-13 18:13:00  58795.82  58810.00  58791.40  58802.00  10.884170\n",
       "2024-07-13 18:14:00  58802.00  58802.01  58802.00  58802.00   0.068970\n",
       "\n",
       "[3607664 rows x 5 columns]"
      ]
     },
     "execution_count": 27,
     "metadata": {},
     "output_type": "execute_result"
    }
   ],
   "source": [
    "btc_bt"
   ]
  },
  {
   "cell_type": "code",
   "execution_count": 24,
   "metadata": {},
   "outputs": [
    {
     "name": "stdout",
     "output_type": "stream",
     "text": [
      "<class 'pandas.core.frame.DataFrame'>\n",
      "DatetimeIndex: 3608081 entries, 2017-08-17 07:00:00 to 2024-07-13 18:14:00\n",
      "Data columns (total 5 columns):\n",
      " #   Column  Dtype  \n",
      "---  ------  -----  \n",
      " 0   Open    float64\n",
      " 1   High    float64\n",
      " 2   Low     float64\n",
      " 3   Close   float64\n",
      " 4   Volume  float64\n",
      "dtypes: float64(5)\n",
      "memory usage: 294.2 MB\n"
     ]
    }
   ],
   "source": []
  },
  {
   "cell_type": "code",
   "execution_count": null,
   "metadata": {},
   "outputs": [],
   "source": []
  }
 ],
 "metadata": {
  "kernelspec": {
   "display_name": "venv",
   "language": "python",
   "name": "python3"
  },
  "language_info": {
   "codemirror_mode": {
    "name": "ipython",
    "version": 3
   },
   "file_extension": ".py",
   "mimetype": "text/x-python",
   "name": "python",
   "nbconvert_exporter": "python",
   "pygments_lexer": "ipython3",
   "version": "3.12.2"
  }
 },
 "nbformat": 4,
 "nbformat_minor": 2
}
